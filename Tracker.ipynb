{
 "cells": [
  {
   "cell_type": "code",
   "execution_count": 2,
   "metadata": {},
   "outputs": [],
   "source": [
    "from collections import deque\n",
    "import numpy as np\n",
    "import argparse\n",
    "import cv2\n",
    "import time"
   ]
  },
  {
   "cell_type": "code",
   "execution_count": 9,
   "metadata": {},
   "outputs": [],
   "source": [
    "# Setup color range, and deque for live and drawing\n",
    "# lower=(29, 86, 250)\n",
    "# upper=(64, 255, 255)\n",
    "\n",
    "lower=(29, 80, 250)\n",
    "upper=(255, 255, 255)\n",
    "\n",
    "pts_draw=deque()\n",
    "draw=False"
   ]
  },
  {
   "cell_type": "code",
   "execution_count": 10,
   "metadata": {},
   "outputs": [
    {
     "name": "stdout",
     "output_type": "stream",
     "text": [
      "Can't find selected range!!\n"
     ]
    },
    {
     "ename": "ValueError",
     "evalue": "max() arg is an empty sequence",
     "output_type": "error",
     "traceback": [
      "\u001b[1;31m---------------------------------------------------------------------------\u001b[0m",
      "\u001b[1;31mValueError\u001b[0m                                Traceback (most recent call last)",
      "\u001b[1;32m<ipython-input-10-7035e4a40f04>\u001b[0m in \u001b[0;36m<module>\u001b[1;34m\u001b[0m\n\u001b[0;32m     38\u001b[0m \u001b[1;33m\u001b[0m\u001b[0m\n\u001b[0;32m     39\u001b[0m     \u001b[1;31m# Select largest contour if multiple are found:\u001b[0m\u001b[1;33m\u001b[0m\u001b[1;33m\u001b[0m\u001b[1;33m\u001b[0m\u001b[0m\n\u001b[1;32m---> 40\u001b[1;33m     \u001b[0mcnt\u001b[0m \u001b[1;33m=\u001b[0m \u001b[0mmax\u001b[0m\u001b[1;33m(\u001b[0m\u001b[0mcnts\u001b[0m\u001b[1;33m,\u001b[0m \u001b[0mkey\u001b[0m\u001b[1;33m=\u001b[0m\u001b[0mcv2\u001b[0m\u001b[1;33m.\u001b[0m\u001b[0mcontourArea\u001b[0m\u001b[1;33m)\u001b[0m\u001b[1;33m\u001b[0m\u001b[1;33m\u001b[0m\u001b[0m\n\u001b[0m\u001b[0;32m     41\u001b[0m \u001b[1;33m\u001b[0m\u001b[0m\n\u001b[0;32m     42\u001b[0m     \u001b[1;31m# Find center of selected cnt\u001b[0m\u001b[1;33m\u001b[0m\u001b[1;33m\u001b[0m\u001b[1;33m\u001b[0m\u001b[0m\n",
      "\u001b[1;31mValueError\u001b[0m: max() arg is an empty sequence"
     ]
    }
   ],
   "source": [
    "# Initialize white board\n",
    "whiteboard=np.ones([480,640,3])\n",
    "\n",
    "# Open camera image\n",
    "\n",
    "cap = cv2.VideoCapture(0)\n",
    "time.sleep(2.0)\n",
    "\n",
    "if not cap.isOpened():\n",
    "    print(\"Cannot open camera\")\n",
    "    exit()\n",
    "while True:\n",
    "    # Capture frame-by-frame\n",
    "    ret, frame = cap.read()\n",
    "    # if frame is read correctly ret is True\n",
    "    if not ret:\n",
    "        print(\"Can't receive frame (stream end?). Exiting ...\")\n",
    "        break\n",
    "        \n",
    "    # Resize to half to reduce computation\n",
    "#     frame=cv2.resize(frame,None,fx=1/2, fy=1/2, interpolation = cv2.INTER_CUBIC)\n",
    "    # Apply Gaussian blur\n",
    "    frame_blur=cv2.GaussianBlur(frame, (11, 11), 0)\n",
    "    # Convert to HSV\n",
    "    frame_hsv=cv2.cvtColor(frame_blur, cv2.COLOR_BGR2HSV)\n",
    "    \n",
    "    # Find mask containing target HSV values:\n",
    "    mask=cv2.inRange(frame_hsv, lower, upper)\n",
    "    \n",
    "    # Extract contour of mask\n",
    "    cnts, heirarchy = cv2.findContours(mask.copy(), cv2.RETR_EXTERNAL,\n",
    "            cv2.CHAIN_APPROX_SIMPLE)\n",
    "    \n",
    "    # break if no contours found\n",
    "    while not cnts:\n",
    "        print(\"Can't find selected range!!\")\n",
    "        break\n",
    "    \n",
    "    # Select largest contour if multiple are found:\n",
    "    cnt = max(cnts, key=cv2.contourArea)\n",
    "    \n",
    "    # Find center of selected cnt\n",
    "    ((x, y), radius) = cv2.minEnclosingCircle(cnt)\n",
    "    M=cv2.moments(cnt)\n",
    "    center=(int(M[\"m10\"] / M[\"m00\"]+pow(10,-8)), int(M[\"m01\"] / M[\"m00\"]+pow(10,-8)))\n",
    "\n",
    "    # Draw a small circle=Dot in place of center of object\n",
    "    cv2.circle(frame, (int(x), int(y)), 2, (255,0,0), -1)\n",
    "    \n",
    "    pts_draw.appendleft(center)\n",
    "    \n",
    "    k = cv2.waitKey(1) & 0xFF\n",
    "    if k==ord('d'):\n",
    "        draw=not(draw)\n",
    "    \n",
    "    if draw==True and x<480 and y<640:\n",
    "        \n",
    "        whiteboard.itemset((int(x),int(y),2),100)\n",
    "        for i in range(1, len(pts_draw)):\n",
    "            cv2.line(whiteboard, pts_draw[i - 1], pts_draw[i], (0, 0, 255), 5)\n",
    "\n",
    "\n",
    "    cv2.imshow('Tracker', frame)\n",
    "    cv2.imshow('Whiteboard', whiteboard)\n",
    "#     pts_draw.appendleft(center)\n",
    "    \n",
    "\n",
    "    \n",
    "    if cv2.waitKey(1) == ord('q'):\n",
    "        break\n",
    "    \n",
    "        \n",
    "# When everything done, release the capture\n",
    "cap.release()\n",
    "cv2.destroyAllWindows()        "
   ]
  },
  {
   "cell_type": "code",
   "execution_count": 11,
   "metadata": {},
   "outputs": [],
   "source": [
    "cap.release()\n",
    "cv2.destroyAllWindows()  "
   ]
  }
 ],
 "metadata": {
  "kernelspec": {
   "display_name": "Python 3",
   "language": "python",
   "name": "python3"
  },
  "language_info": {
   "codemirror_mode": {
    "name": "ipython",
    "version": 3
   },
   "file_extension": ".py",
   "mimetype": "text/x-python",
   "name": "python",
   "nbconvert_exporter": "python",
   "pygments_lexer": "ipython3",
   "version": "3.7.3"
  }
 },
 "nbformat": 4,
 "nbformat_minor": 2
}
